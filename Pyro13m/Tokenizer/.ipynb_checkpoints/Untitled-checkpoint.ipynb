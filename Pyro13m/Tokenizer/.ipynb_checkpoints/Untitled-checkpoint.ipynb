{
 "cells": [
  {
   "cell_type": "code",
   "execution_count": 114,
   "metadata": {},
   "outputs": [
    {
     "name": "stdout",
     "output_type": "stream",
     "text": [
      "\n",
      "['I am a Dr.  Who', ' What are you?', ' I am Spider']\n"
     ]
    }
   ],
   "source": [
    "line=\"I am a Dr. Who. What are you? I am Spider.\"\n",
    "n=len(newline)\n",
    "newlist=[]\n",
    "arr=[]\n",
    "list1=['.','?']\n",
    "\n",
    "newline=list(line.split('.'))\n",
    "prefix=['mr','mrs','ms','dr','Dr','Mr','Mrs','Ms']\n",
    "try:\n",
    "    for i in range(n):\n",
    "        for j in range(len(newline[i])):\n",
    "            if newline[i][j] in list1:\n",
    "                a=(newline[i][j])\n",
    "                var=newline[i].split(a)\n",
    "                newline[i]=var[0]+newline[i][j]\n",
    "                newline.append(var[1])\n",
    "        if newline[i][-2:] in prefix or newline[i][-3:] in prefix:\n",
    "            newline[i]+=\".\"+ \" \"+newline[i+1]\n",
    "            del newline[i+1]\n",
    "        elif newline[i] in list1:\n",
    "            continue\n",
    "        #elif newline[i]\n",
    "except IndexError:\n",
    "    print('')\n",
    "    \n",
    "print(newline)"
   ]
  },
  {
   "cell_type": "code",
   "execution_count": null,
   "metadata": {},
   "outputs": [],
   "source": []
  }
 ],
 "metadata": {
  "kernelspec": {
   "display_name": "Python 3",
   "language": "python",
   "name": "python3"
  },
  "language_info": {
   "codemirror_mode": {
    "name": "ipython",
    "version": 3
   },
   "file_extension": ".py",
   "mimetype": "text/x-python",
   "name": "python",
   "nbconvert_exporter": "python",
   "pygments_lexer": "ipython3",
   "version": "3.5.2"
  }
 },
 "nbformat": 4,
 "nbformat_minor": 2
}
